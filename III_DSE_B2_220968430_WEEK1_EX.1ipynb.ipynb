{
 "cells": [
  {
   "cell_type": "markdown",
   "id": "3da13d98",
   "metadata": {},
   "source": [
    "# AMIT ANAND. 220968430. DSE B "
   ]
  },
  {
   "cell_type": "markdown",
   "id": "378609ff",
   "metadata": {},
   "source": [
    "## WEEK1: EX1"
   ]
  },
  {
   "cell_type": "markdown",
   "id": "74150a09",
   "metadata": {},
   "source": [
    "Q1)"
   ]
  },
  {
   "cell_type": "code",
   "execution_count": 1,
   "id": "342a34cf",
   "metadata": {},
   "outputs": [],
   "source": [
    "import pandas as pd\n",
    "\n",
    "df = pd.DataFrame({\"RollNo\":[1,2,3,4,5,6,7,8,9,10],\n",
    "                   \"Name\":['a','b','c','d','e','f','g','h','i','j'],\n",
    "                   \"Gender\":['m','f','f','f','m','f','f','f','m','f'],\n",
    "                   \"Marks1\":[40,80,65,18,21,66,43,88,90,100],\n",
    "                   \"Marks2\":[52,34,99,76,55,12,88,43,71,42],\n",
    "                   \"Marks3\":[89,75,32,72,20,38,45,64,53,18]\n",
    "                  })"
   ]
  },
  {
   "cell_type": "markdown",
   "id": "4964f245",
   "metadata": {},
   "source": [
    "Q2)"
   ]
  },
  {
   "cell_type": "code",
   "execution_count": 2,
   "id": "26a2d6b5",
   "metadata": {},
   "outputs": [],
   "source": [
    "df[\"Total\"]=df[\"Marks1\"]+df[\"Marks2\"]+df[\"Marks3\"]"
   ]
  },
  {
   "cell_type": "code",
   "execution_count": 3,
   "id": "1632d7c5",
   "metadata": {},
   "outputs": [
    {
     "data": {
      "text/plain": [
       "0    181\n",
       "1    189\n",
       "2    196\n",
       "3    166\n",
       "4     96\n",
       "5    116\n",
       "6    176\n",
       "7    195\n",
       "8    214\n",
       "9    160\n",
       "Name: Total, dtype: int64"
      ]
     },
     "execution_count": 3,
     "metadata": {},
     "output_type": "execute_result"
    }
   ],
   "source": [
    "df[\"Total\"]"
   ]
  },
  {
   "cell_type": "markdown",
   "id": "237103b6",
   "metadata": {},
   "source": [
    "Q3)"
   ]
  },
  {
   "cell_type": "code",
   "execution_count": 4,
   "id": "a5110724",
   "metadata": {},
   "outputs": [
    {
     "data": {
      "text/plain": [
       "18"
      ]
     },
     "execution_count": 4,
     "metadata": {},
     "output_type": "execute_result"
    }
   ],
   "source": [
    "df.Marks1.min()"
   ]
  },
  {
   "cell_type": "markdown",
   "id": "12cfd25b",
   "metadata": {},
   "source": [
    "Q4)"
   ]
  },
  {
   "cell_type": "code",
   "execution_count": 5,
   "id": "e76e998d",
   "metadata": {},
   "outputs": [
    {
     "data": {
      "text/plain": [
       "99"
      ]
     },
     "execution_count": 5,
     "metadata": {},
     "output_type": "execute_result"
    }
   ],
   "source": [
    "df.Marks2.max()"
   ]
  },
  {
   "cell_type": "markdown",
   "id": "a28e8c7a",
   "metadata": {},
   "source": [
    "Q5)"
   ]
  },
  {
   "cell_type": "code",
   "execution_count": 6,
   "id": "04e0197f",
   "metadata": {},
   "outputs": [
    {
     "data": {
      "text/plain": [
       "50.6"
      ]
     },
     "execution_count": 6,
     "metadata": {},
     "output_type": "execute_result"
    }
   ],
   "source": [
    "df.Marks3.mean()"
   ]
  },
  {
   "cell_type": "markdown",
   "id": "ddc5cbab",
   "metadata": {},
   "source": [
    "Q6)"
   ]
  },
  {
   "cell_type": "code",
   "execution_count": 7,
   "id": "89682b66",
   "metadata": {},
   "outputs": [
    {
     "data": {
      "text/html": [
       "<div>\n",
       "<style scoped>\n",
       "    .dataframe tbody tr th:only-of-type {\n",
       "        vertical-align: middle;\n",
       "    }\n",
       "\n",
       "    .dataframe tbody tr th {\n",
       "        vertical-align: top;\n",
       "    }\n",
       "\n",
       "    .dataframe thead th {\n",
       "        text-align: right;\n",
       "    }\n",
       "</style>\n",
       "<table border=\"1\" class=\"dataframe\">\n",
       "  <thead>\n",
       "    <tr style=\"text-align: right;\">\n",
       "      <th></th>\n",
       "      <th>Name</th>\n",
       "      <th>Average</th>\n",
       "    </tr>\n",
       "  </thead>\n",
       "  <tbody>\n",
       "    <tr>\n",
       "      <th>8</th>\n",
       "      <td>i</td>\n",
       "      <td>71.333333</td>\n",
       "    </tr>\n",
       "  </tbody>\n",
       "</table>\n",
       "</div>"
      ],
      "text/plain": [
       "  Name    Average\n",
       "8    i  71.333333"
      ]
     },
     "execution_count": 7,
     "metadata": {},
     "output_type": "execute_result"
    }
   ],
   "source": [
    "df[\"Average\"]=(df[\"Total\"]/3)\n",
    "df[df[\"Average\"]==df[\"Average\"].max()][['Name','Average']]"
   ]
  },
  {
   "cell_type": "markdown",
   "id": "1bd099f5",
   "metadata": {},
   "source": [
    "Q7)"
   ]
  },
  {
   "cell_type": "code",
   "execution_count": 8,
   "id": "6732cc99",
   "metadata": {},
   "outputs": [
    {
     "data": {
      "text/html": [
       "<div>\n",
       "<style scoped>\n",
       "    .dataframe tbody tr th:only-of-type {\n",
       "        vertical-align: middle;\n",
       "    }\n",
       "\n",
       "    .dataframe tbody tr th {\n",
       "        vertical-align: top;\n",
       "    }\n",
       "\n",
       "    .dataframe thead th {\n",
       "        text-align: right;\n",
       "    }\n",
       "</style>\n",
       "<table border=\"1\" class=\"dataframe\">\n",
       "  <thead>\n",
       "    <tr style=\"text-align: right;\">\n",
       "      <th></th>\n",
       "      <th>Marks3</th>\n",
       "    </tr>\n",
       "  </thead>\n",
       "  <tbody>\n",
       "    <tr>\n",
       "      <th>1</th>\n",
       "      <td>75</td>\n",
       "    </tr>\n",
       "    <tr>\n",
       "      <th>5</th>\n",
       "      <td>38</td>\n",
       "    </tr>\n",
       "  </tbody>\n",
       "</table>\n",
       "</div>"
      ],
      "text/plain": [
       "   Marks3\n",
       "1      75\n",
       "5      38"
      ]
     },
     "execution_count": 8,
     "metadata": {},
     "output_type": "execute_result"
    }
   ],
   "source": [
    "df[df[\"Marks2\"]<40][['Marks3']]"
   ]
  }
 ],
 "metadata": {
  "kernelspec": {
   "display_name": "Python 3 (ipykernel)",
   "language": "python",
   "name": "python3"
  },
  "language_info": {
   "codemirror_mode": {
    "name": "ipython",
    "version": 3
   },
   "file_extension": ".py",
   "mimetype": "text/x-python",
   "name": "python",
   "nbconvert_exporter": "python",
   "pygments_lexer": "ipython3",
   "version": "3.11.4"
  }
 },
 "nbformat": 4,
 "nbformat_minor": 5
}
