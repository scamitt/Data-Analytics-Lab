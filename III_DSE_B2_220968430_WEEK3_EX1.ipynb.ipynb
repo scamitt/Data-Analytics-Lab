{
 "cells": [
  {
   "cell_type": "markdown",
   "id": "dc89af93",
   "metadata": {},
   "source": [
    "# AMIT ANAND. 220968430. DSE B"
   ]
  },
  {
   "cell_type": "markdown",
   "id": "efe06a94",
   "metadata": {},
   "source": [
    "## WEEK3: EX1: MTCARS"
   ]
  },
  {
   "cell_type": "code",
   "execution_count": 1,
   "id": "3728aebf",
   "metadata": {},
   "outputs": [],
   "source": [
    "import pandas as pd\n",
    "from matplotlib import pyplot as plt\n",
    "import numpy as np\n",
    "df = pd.read_csv(\"C:\\\\Users\\\\AMIT ANAND\\\\OneDrive\\\\Desktop\\\\mtcars.csv\")"
   ]
  },
  {
   "cell_type": "markdown",
   "id": "4bb5d129",
   "metadata": {},
   "source": [
    "1. Find the car with the best mpg"
   ]
  },
  {
   "cell_type": "code",
   "execution_count": 2,
   "id": "ca822e95",
   "metadata": {},
   "outputs": [
    {
     "data": {
      "text/plain": [
       "14     Cadillac Fleetwood\n",
       "15    Lincoln Continental\n",
       "Name: model, dtype: object"
      ]
     },
     "execution_count": 2,
     "metadata": {},
     "output_type": "execute_result"
    }
   ],
   "source": [
    "min_mpg=df[\"mpg\"].min()\n",
    "df[df[\"mpg\"]==min_mpg].model"
   ]
  },
  {
   "cell_type": "markdown",
   "id": "e3c725b5",
   "metadata": {},
   "source": [
    "2. Find the car with the worst mpg\n"
   ]
  },
  {
   "cell_type": "code",
   "execution_count": 3,
   "id": "e9ff70aa",
   "metadata": {},
   "outputs": [
    {
     "data": {
      "text/plain": [
       "30    Maserati Bora\n",
       "Name: model, dtype: object"
      ]
     },
     "execution_count": 3,
     "metadata": {},
     "output_type": "execute_result"
    }
   ],
   "source": [
    "max_hp= df[\"hp\"].max()\n",
    "df[df[\"hp\"]==max_hp].model"
   ]
  },
  {
   "cell_type": "markdown",
   "id": "11387e15",
   "metadata": {},
   "source": [
    "3. Find the car with the best horsepower\n"
   ]
  },
  {
   "cell_type": "code",
   "execution_count": 4,
   "id": "d2dc47be",
   "metadata": {},
   "outputs": [
    {
     "data": {
      "text/plain": [
       "18    Honda Civic\n",
       "Name: model, dtype: object"
      ]
     },
     "execution_count": 4,
     "metadata": {},
     "output_type": "execute_result"
    }
   ],
   "source": [
    "min_hp= df[\"hp\"].min()\n",
    "df[df[\"hp\"]==min_hp].model"
   ]
  },
  {
   "cell_type": "markdown",
   "id": "423f9da4",
   "metadata": {},
   "source": [
    "4. Find 5 number summary of displacement\n"
   ]
  },
  {
   "cell_type": "code",
   "execution_count": 5,
   "id": "beb798fd",
   "metadata": {},
   "outputs": [
    {
     "data": {
      "text/plain": [
       "count     32.000000\n",
       "mean     230.721875\n",
       "std      123.938694\n",
       "min       71.100000\n",
       "25%      120.825000\n",
       "50%      196.300000\n",
       "75%      326.000000\n",
       "max      472.000000\n",
       "Name: disp, dtype: float64"
      ]
     },
     "execution_count": 5,
     "metadata": {},
     "output_type": "execute_result"
    }
   ],
   "source": [
    "df[\"disp\"].describe()"
   ]
  },
  {
   "cell_type": "markdown",
   "id": "f6cae564",
   "metadata": {},
   "source": [
    "5. Find median horse power\n"
   ]
  },
  {
   "cell_type": "code",
   "execution_count": 6,
   "id": "9b3f9199",
   "metadata": {},
   "outputs": [
    {
     "data": {
      "text/plain": [
       "123.0"
      ]
     },
     "execution_count": 6,
     "metadata": {},
     "output_type": "execute_result"
    }
   ],
   "source": [
    "median_hp= df[\"hp\"].median()\n",
    "median_hp"
   ]
  },
  {
   "cell_type": "markdown",
   "id": "f0e4f7c2",
   "metadata": {},
   "source": [
    "6. What is average mpg for manual vs. automatic cars\n"
   ]
  },
  {
   "cell_type": "code",
   "execution_count": 7,
   "id": "734ee1b2",
   "metadata": {},
   "outputs": [
    {
     "data": {
      "text/plain": [
       "24.39230769230769"
      ]
     },
     "execution_count": 7,
     "metadata": {},
     "output_type": "execute_result"
    }
   ],
   "source": [
    "automatic_mpg_avg=df[df[\"am\"]==1].mpg.mean()\n",
    "automatic_mpg_avg"
   ]
  },
  {
   "cell_type": "markdown",
   "id": "0ffd9948",
   "metadata": {},
   "source": [
    "7. Draw a histogram of miles per gallon\n"
   ]
  },
  {
   "cell_type": "code",
   "execution_count": 8,
   "id": "34f732d1",
   "metadata": {},
   "outputs": [
    {
     "data": {
      "text/plain": [
       "17.147368421052633"
      ]
     },
     "execution_count": 8,
     "metadata": {},
     "output_type": "execute_result"
    }
   ],
   "source": [
    "manual_mpg_avg=df[df[\"am\"]==0].mpg.mean()\n",
    "manual_mpg_avg"
   ]
  },
  {
   "cell_type": "code",
   "execution_count": 9,
   "id": "28dec651",
   "metadata": {},
   "outputs": [
    {
     "data": {
      "text/plain": [
       "(array([2., 1., 3., 5., 3., 4., 2., 5., 1., 1., 1., 0., 2., 0., 2.]),\n",
       " array([10.4       , 11.96666667, 13.53333333, 15.1       , 16.66666667,\n",
       "        18.23333333, 19.8       , 21.36666667, 22.93333333, 24.5       ,\n",
       "        26.06666667, 27.63333333, 29.2       , 30.76666667, 32.33333333,\n",
       "        33.9       ]),\n",
       " <BarContainer object of 15 artists>)"
      ]
     },
     "execution_count": 9,
     "metadata": {},
     "output_type": "execute_result"
    },
    {
     "data": {
      "image/png": "[encoded data removed]",
      "text/plain": [
       "<Figure size 640x480 with 1 Axes>"
      ]
     },
     "metadata": {},
     "output_type": "display_data"
    }
   ],
   "source": [
    "plt.hist(df[\"mpg\"],bins=15)"
   ]
  },
  {
   "cell_type": "markdown",
   "id": "56894981",
   "metadata": {},
   "source": [
    "8. Boxplot of mpg for each cylinder type\n"
   ]
  },
  {
   "cell_type": "code",
   "execution_count": 10,
   "id": "ec353af3",
   "metadata": {},
   "outputs": [
    {
     "data": {
      "text/plain": [
       "{'whiskers': [<matplotlib.lines.Line2D at 0x24308533e90>,\n",
       "  <matplotlib.lines.Line2D at 0x2430856ae90>,\n",
       "  <matplotlib.lines.Line2D at 0x24308577310>,\n",
       "  <matplotlib.lines.Line2D at 0x24308577e50>,\n",
       "  <matplotlib.lines.Line2D at 0x24308594090>,\n",
       "  <matplotlib.lines.Line2D at 0x24308594c90>],\n",
       " 'caps': [<matplotlib.lines.Line2D at 0x2430856ba50>,\n",
       "  <matplotlib.lines.Line2D at 0x243085745d0>,\n",
       "  <matplotlib.lines.Line2D at 0x24308588990>,\n",
       "  <matplotlib.lines.Line2D at 0x24308589490>,\n",
       "  <matplotlib.lines.Line2D at 0x243085957d0>,\n",
       "  <matplotlib.lines.Line2D at 0x24308596350>],\n",
       " 'boxes': [<matplotlib.lines.Line2D at 0x243085694d0>,\n",
       "  <matplotlib.lines.Line2D at 0x24308576810>,\n",
       "  <matplotlib.lines.Line2D at 0x2430858b690>],\n",
       " 'medians': [<matplotlib.lines.Line2D at 0x24308575190>,\n",
       "  <matplotlib.lines.Line2D at 0x24308589f90>,\n",
       "  <matplotlib.lines.Line2D at 0x24308596e50>],\n",
       " 'fliers': [<matplotlib.lines.Line2D at 0x24308575c10>,\n",
       "  <matplotlib.lines.Line2D at 0x2430858aa10>,\n",
       "  <matplotlib.lines.Line2D at 0x24308597950>],\n",
       " 'means': []}"
      ]
     },
     "execution_count": 10,
     "metadata": {},
     "output_type": "execute_result"
    },
    {
     "data": {
      "image/png": "[encoded data removed]",
      "text/plain": [
       "<Figure size 640x480 with 1 Axes>"
      ]
     },
     "metadata": {},
     "output_type": "display_data"
    }
   ],
   "source": [
    "df1=df[df['cyl']==4].mpg\n",
    "df3=df[df['cyl']==6].mpg\n",
    "df2=df[df['cyl']==8].mpg\n",
    "plt.boxplot([df1,df2,df3])"
   ]
  },
  {
   "cell_type": "markdown",
   "id": "de0566ba",
   "metadata": {},
   "source": [
    "9. Create a crosstab displaying count of automatic vs. manual cars\n"
   ]
  },
  {
   "cell_type": "code",
   "execution_count": 11,
   "id": "b4f53996",
   "metadata": {},
   "outputs": [],
   "source": [
    "auto_count = df[df[\"am\"]==1].model.count()\n",
    "\n",
    "man_count=df[\"model\"].count()-auto_count"
   ]
  },
  {
   "cell_type": "code",
   "execution_count": 12,
   "id": "687c7984",
   "metadata": {},
   "outputs": [
    {
     "name": "stdout",
     "output_type": "stream",
     "text": [
      "13\n",
      "19\n"
     ]
    }
   ],
   "source": [
    "print(auto_count)\n",
    "print(man_count)"
   ]
  },
  {
   "cell_type": "markdown",
   "id": "1923238e",
   "metadata": {},
   "source": [
    "10. Create a crosstab displaying count of “am vs cyl”\n"
   ]
  },
  {
   "cell_type": "code",
   "execution_count": 13,
   "id": "c90f1976",
   "metadata": {},
   "outputs": [
    {
     "data": {
      "text/html": [
       "<div>\n",
       "<style scoped>\n",
       "    .dataframe tbody tr th:only-of-type {\n",
       "        vertical-align: middle;\n",
       "    }\n",
       "\n",
       "    .dataframe tbody tr th {\n",
       "        vertical-align: top;\n",
       "    }\n",
       "\n",
       "    .dataframe thead th {\n",
       "        text-align: right;\n",
       "    }\n",
       "</style>\n",
       "<table border=\"1\" class=\"dataframe\">\n",
       "  <thead>\n",
       "    <tr style=\"text-align: right;\">\n",
       "      <th>cyl</th>\n",
       "      <th>4</th>\n",
       "      <th>6</th>\n",
       "      <th>8</th>\n",
       "    </tr>\n",
       "    <tr>\n",
       "      <th>am</th>\n",
       "      <th></th>\n",
       "      <th></th>\n",
       "      <th></th>\n",
       "    </tr>\n",
       "  </thead>\n",
       "  <tbody>\n",
       "    <tr>\n",
       "      <th>0</th>\n",
       "      <td>3</td>\n",
       "      <td>4</td>\n",
       "      <td>12</td>\n",
       "    </tr>\n",
       "    <tr>\n",
       "      <th>1</th>\n",
       "      <td>8</td>\n",
       "      <td>3</td>\n",
       "      <td>2</td>\n",
       "    </tr>\n",
       "  </tbody>\n",
       "</table>\n",
       "</div>"
      ],
      "text/plain": [
       "cyl  4  6   8\n",
       "am           \n",
       "0    3  4  12\n",
       "1    8  3   2"
      ]
     },
     "execution_count": 13,
     "metadata": {},
     "output_type": "execute_result"
    }
   ],
   "source": [
    "pd.crosstab(df.am,df.cyl)"
   ]
  },
  {
   "cell_type": "markdown",
   "id": "5d85ffe4",
   "metadata": {},
   "source": [
    "11. What is the correlation between the weight of the car and mpg\n"
   ]
  },
  {
   "cell_type": "code",
   "execution_count": 14,
   "id": "555c5015",
   "metadata": {
    "scrolled": true
   },
   "outputs": [
    {
     "data": {
      "text/plain": [
       "array([[ 1.        , -0.86765938],\n",
       "       [-0.86765938,  1.        ]])"
      ]
     },
     "execution_count": 14,
     "metadata": {},
     "output_type": "execute_result"
    }
   ],
   "source": [
    "np.corrcoef(df.wt,df.mpg)"
   ]
  }
 ],
 "metadata": {
  "kernelspec": {
   "display_name": "Python 3 (ipykernel)",
   "language": "python",
   "name": "python3"
  },
  "language_info": {
   "codemirror_mode": {
    "name": "ipython",
    "version": 3
   },
   "file_extension": ".py",
   "mimetype": "text/x-python",
   "name": "python",
   "nbconvert_exporter": "python",
   "pygments_lexer": "ipython3",
   "version": "3.11.4"
  }
 },
 "nbformat": 4,
 "nbformat_minor": 5
}
